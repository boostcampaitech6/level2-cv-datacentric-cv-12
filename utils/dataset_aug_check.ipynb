{
 "cells": [
  {
   "cell_type": "code",
   "execution_count": null,
   "metadata": {},
   "outputs": [],
   "source": [
    "from dataset import SceneTextDataset #code의 dataset.py 경로를 맞춰주세요.\n",
    "import matplotlib.pyplot as plt\n",
    "import random\n",
    "\n",
    "dataset = SceneTextDataset(\n",
    "    '/data/ephemeral/home/data/medical',\n",
    "    split='train_noise',\n",
    "    image_size=2048,\n",
    "    crop_size=1024,\n",
    "    ignore_tags=['masked', 'excluded-region', 'maintable', 'stamp'],\n",
    "    color_jitter=False # color_jitter는 임의로 제거하였습니다.\n",
    ")"
   ]
  },
  {
   "cell_type": "code",
   "execution_count": null,
   "metadata": {},
   "outputs": [],
   "source": [
    "for i in range(20):\n",
    "    # 특정 인덱스의 데이터 가져오기\n",
    "    index_to_visualize = random.randint(0, 199)\n",
    "    # index_to_visualize = i\n",
    "    image, word_bboxes, roi_masks = dataset[index_to_visualize]\n",
    "\n",
    "    print(index_to_visualize)\n",
    "\n",
    "    # 시각화\n",
    "    plt.figure(figsize=(8, 8))\n",
    "\n",
    "    # 이미지 표시\n",
    "    plt.subplot(1, 2, 1)\n",
    "    plt.imshow(image)\n",
    "    plt.title('Cropped Image')\n",
    "\n",
    "    # 바운딩 박스 표시\n",
    "    plt.subplot(1, 2, 2)\n",
    "    plt.imshow(image)\n",
    "    for bbox in word_bboxes:\n",
    "        plt.plot(bbox[:, 0], bbox[:, 1], color='red')\n",
    "    plt.title('Word Bounding Boxes')\n",
    "\n",
    "    plt.show()"
   ]
  }
 ],
 "metadata": {
  "kernelspec": {
   "display_name": "base",
   "language": "python",
   "name": "python3"
  },
  "language_info": {
   "codemirror_mode": {
    "name": "ipython",
    "version": 3
   },
   "file_extension": ".py",
   "mimetype": "text/x-python",
   "name": "python",
   "nbconvert_exporter": "python",
   "pygments_lexer": "ipython3",
   "version": "3.8.5"
  }
 },
 "nbformat": 4,
 "nbformat_minor": 2
}
