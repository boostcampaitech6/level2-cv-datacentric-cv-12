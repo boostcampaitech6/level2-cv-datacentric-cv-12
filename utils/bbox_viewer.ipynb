{
 "cells": [
  {
   "cell_type": "code",
   "execution_count": 6,
   "metadata": {},
   "outputs": [],
   "source": [
    "import os\n",
    "import json\n",
    "from glob import glob\n",
    "from pathlib import Path\n",
    "from PIL import Image, ImageDraw"
   ]
  },
  {
   "cell_type": "code",
   "execution_count": 7,
   "metadata": {},
   "outputs": [],
   "source": [
    "def read_json(filename: str):\n",
    "  with Path(filename).open(encoding='utf8') as handle:\n",
    "    ann = json.load(handle)\n",
    "  return ann\n",
    "\n",
    "# 여기에 csv파일 확장자를 json으로 변경하여 주세\n",
    "# data = read_json(\"/data/ephemer/al/home/data/medical/ufo/train.json\")\n",
    "# data = read_json(\"/data/ephemeral/home/code/predictions/output_base_150e.json\")\n",
    "# data = read_json(\"/data/ephemeral/home/code/predictions/output_mj.json\")\n",
    "# data = read_json(\"/data/ephemeral/home/code/predictions/output_cheat.json\")\n",
    "data = read_json(\"/data/ephemeral/home/level2-cv-datacentric-cv-12/code/code/predictions/output.json\")\n",
    "\n",
    "# img_lists = glob('/data/ephemeral/home/data/medical/img/train/*.jpg')\n",
    "img_lists = glob('/data/ephemeral/home/data/medical/img/test/*.jpg')\n",
    "img_lists = [i.split('/')[-1] for i in img_lists]"
   ]
  },
  {
   "cell_type": "code",
   "execution_count": null,
   "metadata": {},
   "outputs": [],
   "source": [
    "img_lists"
   ]
  },
  {
   "cell_type": "code",
   "execution_count": 8,
   "metadata": {},
   "outputs": [],
   "source": [
    "from typing import Union, List"
   ]
  },
  {
   "cell_type": "code",
   "execution_count": 17,
   "metadata": {},
   "outputs": [],
   "source": [
    "def save_vis_to_img(save_dir: Union[str, os.PathLike] = None, img_lists: List = None) -> None:\n",
    "  if not os.path.exists(save_dir):\n",
    "    os.makedirs(save_dir, exist_ok=True)  \n",
    "\n",
    "  ori_dict = {\n",
    "    \"Horizontal\": \"ho\",\n",
    "    \"Vertical\": \"ve\",\n",
    "    \"Irregular\": \"ir\"\n",
    "  }\n",
    "  \n",
    "  lag_dict = {\n",
    "    None: '0',\n",
    "    'others': '1',\n",
    "    'ko': '2',\n",
    "    'en': '3',\n",
    "    'ko, others': '4',\n",
    "    'ko, en': '5',\n",
    "  }\n",
    "  \n",
    "  tag_dict = {\n",
    "    \"occlusion\": \"occ\",\n",
    "    \"stamp\": \"stamp\",\n",
    "    \"masked\": \"mask\",\n",
    "    \"inferred\": \"infer\"\n",
    "  }\n",
    "  \n",
    "  print(img_lists)\n",
    "  for i in range(len(img_lists)):\n",
    "    img_json = [[k, v] for k, v in data['images'].items() if k == img_lists[i]]\n",
    "    print(img_json)\n",
    "    img_path = img_json[0][0]\n",
    "    img = Image.open(os.path.join('/data/ephemeral/home/data/medical/img/test', img_path)).convert(\"RGB\")\n",
    "    draw = ImageDraw.Draw(img)\n",
    "    \n",
    "    # All of the prepared dataset consists of words. Not a character.\n",
    "    for obj_k, obj_v in img_json[0][1]['words'].items():\n",
    "      # language\n",
    "      lan = None\n",
    "      if isinstance(obj_v['language'], list):\n",
    "        lan = ', '.join(obj_v['language'])\n",
    "      else:\n",
    "        lan = obj_v['language']\n",
    "      lan = lag_dict[lan]\n",
    "      \n",
    "      # orientation\n",
    "      ori = ori_dict[obj_v['orientation']]\n",
    "     \n",
    "      # tag (occlusion, stamp, masked, inferred)\n",
    "      tag = None\n",
    "      for t in obj_v['tags']:\n",
    "        try:\n",
    "          tag += tag_dict[t]\n",
    "        except:\n",
    "          pass\n",
    "        \n",
    "      if tag is None:\n",
    "        obj_name = f\"{ori}_{obj_k}_{lan}\"\n",
    "      else:\n",
    "        obj_name = f\"{tag}_{ori}_{obj_k}_{lan}\"\n",
    "      \n",
    "      # bbox points\n",
    "      pts = [(int(p[0]), int(p[1])) for p in obj_v['points']]\n",
    "      pt1 = sorted(pts, key=lambda x: (x[1], x[0]))[0]\n",
    "\n",
    "# Masking object which not use for training.            \n",
    "\n",
    "      if obj_v['illegibility']:\n",
    "          draw.polygon(pts, fill=(0, 0, 0))\n",
    "      else:\n",
    "          draw.polygon(pts, outline=(255, 0, 0))\n",
    "          draw.text(\n",
    "          (pt1[0]-3, pt1[1]-12),\n",
    "          obj_name,\n",
    "          fill=(0, 0, 0)\n",
    "        )\n",
    "    img.save(os.path.join(save_dir, img_path))"
   ]
  },
  {
   "cell_type": "code",
   "execution_count": 9,
   "metadata": {},
   "outputs": [],
   "source": [
    "def save_vis_to_img_test(save_dir: Union[str, os.PathLike] = None, img_lists: List = None) -> None:\n",
    "  if not os.path.exists(save_dir):\n",
    "    os.makedirs(save_dir, exist_ok=True)  \n",
    "\n",
    "  print(img_lists)\n",
    "  for i in range(len(img_lists)):\n",
    "    img_json = [[k, v] for k, v in data['images'].items() if k == img_lists[i]]\n",
    "    print(img_json)\n",
    "    img_path = img_json[0][0]\n",
    "    img = Image.open(os.path.join('/data/ephemeral/home/data/medical/img/test', img_path)).convert(\"RGB\")\n",
    "    draw = ImageDraw.Draw(img)\n",
    "    \n",
    "    # All of the prepared dataset consists of words. Not a character.\n",
    "    for obj_k, obj_v in img_json[0][1]['words'].items():\n",
    "      \n",
    "      # bbox points\n",
    "        pts = [(int(p[0]), int(p[1])) for p in obj_v['points']]\n",
    "        pt1 = sorted(pts, key=lambda x: (x[1], x[0]))[0]\n",
    "        draw.polygon(pts, outline=(255, 0, 0))\n",
    "# Masking object which not use for training.            \n",
    "\n",
    "    img.save(os.path.join(save_dir, img_path))\n",
    "\n",
    "    # break"
   ]
  },
  {
   "cell_type": "code",
   "execution_count": null,
   "metadata": {},
   "outputs": [],
   "source": [
    "# save_vis_to_img(\"vis_res_pred\", img_lists)"
   ]
  },
  {
   "cell_type": "code",
   "execution_count": null,
   "metadata": {},
   "outputs": [],
   "source": [
    "save_vis_to_img_test(\"vis_res\", img_lists)"
   ]
  }
 ],
 "metadata": {
  "kernelspec": {
   "display_name": "base",
   "language": "python",
   "name": "python3"
  },
  "language_info": {
   "codemirror_mode": {
    "name": "ipython",
    "version": 3
   },
   "file_extension": ".py",
   "mimetype": "text/x-python",
   "name": "python",
   "nbconvert_exporter": "python",
   "pygments_lexer": "ipython3",
   "version": "3.8.5"
  }
 },
 "nbformat": 4,
 "nbformat_minor": 2
}
